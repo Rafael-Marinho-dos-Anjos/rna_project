{
  "cells": [
    {
      "cell_type": "code",
      "execution_count": 1,
      "metadata": {},
      "outputs": [],
      "source": [
        "import torch\n",
        "\n",
        "from utils.evaluation.iou import IoU"
      ]
    },
    {
      "cell_type": "code",
      "execution_count": 2,
      "metadata": {},
      "outputs": [
        {
          "name": "stdout",
          "output_type": "stream",
          "text": [
            "Loading 1870 files of category table.\n"
          ]
        }
      ],
      "source": [
        "# 'sofa', 'chair', 'desk', 'bed', 'bookcase', 'tool', 'misc', 'wardrobe', 'table'\n",
        "category = \"table\"\n",
        "\n",
        "with open(\"data/category.txt\", \"w\") as file:\n",
        "    file.write(category)\n",
        "\n",
        "from data.dataloader_filtered import train_loader, test_loader, val_loader"
      ]
    },
    {
      "cell_type": "code",
      "execution_count": 8,
      "metadata": {},
      "outputs": [
        {
          "name": "stdout",
          "output_type": "stream",
          "text": [
            "table: \t0.3200\n",
            "sofa: \t0.7437\n",
            "chair: \t0.2871\n",
            "desk: \t0.6563\n",
            "bed: \t0.2652\n",
            "bookcase: \t0.5178\n",
            "tool: \t0.7217\n",
            "misc: \t0.8434\n",
            "wardrobe: \t0.9715\n",
            "0.5918553221838321\n"
          ]
        }
      ],
      "source": [
        "import json\n",
        "\n",
        "with open(\"results/f1.json\", \"r\") as results:\n",
        "    ious = json.loads(results.read())\n",
        "\n",
        "for cat, iou in ious.items():\n",
        "    print(f\"{cat}: \\t{iou:.4f}\")\n",
        "\n",
        "print(sum(ious.values())/len(ious.values()))"
      ]
    },
    {
      "cell_type": "code",
      "execution_count": null,
      "metadata": {},
      "outputs": [],
      "source": [
        "torch.cuda.empty_cache()"
      ]
    },
    {
      "cell_type": "code",
      "execution_count": null,
      "metadata": {},
      "outputs": [
        {
          "data": {
            "text/plain": [
              "device(type='cuda', index=0)"
            ]
          },
          "execution_count": 4,
          "metadata": {},
          "output_type": "execute_result"
        }
      ],
      "source": [
        "device = torch.device(\"cuda:0\") if torch.cuda.is_available() else torch.device(\"cpu\")\n",
        "device"
      ]
    },
    {
      "cell_type": "code",
      "execution_count": null,
      "metadata": {},
      "outputs": [],
      "source": [
        "from model.model import Rec3D, version\n",
        "model = Rec3D().to(device)"
      ]
    },
    {
      "cell_type": "code",
      "execution_count": null,
      "metadata": {},
      "outputs": [
        {
          "name": "stdout",
          "output_type": "stream",
          "text": [
            "Weights loaded\n"
          ]
        }
      ],
      "source": [
        "try:\n",
        "    model.load_state_dict(torch.load(\"model/weights/weights_{}_{}.pdf\".format(version, category)))\n",
        "    print(\"Weights loaded\")\n",
        "except:\n",
        "    print(\"Weights not found\")\n",
        "    "
      ]
    },
    {
      "cell_type": "code",
      "execution_count": null,
      "metadata": {},
      "outputs": [],
      "source": [
        "from torchmetrics.classification import BinaryF1Score"
      ]
    },
    {
      "cell_type": "code",
      "execution_count": null,
      "metadata": {},
      "outputs": [
        {
          "name": "stdout",
          "output_type": "stream",
          "text": [
            "Mean F1 score for table category: 0.2846\n"
          ]
        }
      ],
      "source": [
        "loss = BinaryF1Score().to(device)\n",
        "loss_list = list()\n",
        "\n",
        "threshold_rec = 0.2\n",
        "\n",
        "for X, y_mask, y_cloud, image in test_loader:\n",
        "    if X.shape == (1,1):\n",
        "        continue\n",
        "\n",
        "    y = model(X.to(device), torch.zeros((1,128,128,128)).to(device))\n",
        "\n",
        "    loss_list.append(loss(y[1], y_cloud.to(device)).item())\n",
        "\n",
        "\n",
        "print(f\"Mean F1 score for {category} category: {sum(loss_list) / len(loss_list):.4f}\")"
      ]
    },
    {
      "cell_type": "code",
      "execution_count": null,
      "metadata": {},
      "outputs": [],
      "source": [
        "import json\n",
        "\n",
        "with open(\"results/f1.json\", \"r\") as results:\n",
        "    ious = json.loads(results.read())\n",
        "\n",
        "if category in ious.keys():\n",
        "    if sum(loss_list) / len(loss_list) > ious[category]:\n",
        "        ious[category] = sum(loss_list) / len(loss_list)\n",
        "else:\n",
        "    ious[category] = sum(loss_list) / len(loss_list)\n",
        "\n",
        "with open(\"results/f1.json\", \"w\") as results:\n",
        "    results.write(json.dumps(ious))"
      ]
    }
  ],
  "metadata": {
    "colab": {
      "private_outputs": true,
      "provenance": []
    },
    "kernelspec": {
      "display_name": "Python 3",
      "name": "python3"
    },
    "language_info": {
      "codemirror_mode": {
        "name": "ipython",
        "version": 3
      },
      "file_extension": ".py",
      "mimetype": "text/x-python",
      "name": "python",
      "nbconvert_exporter": "python",
      "pygments_lexer": "ipython3",
      "version": "3.11.7"
    }
  },
  "nbformat": 4,
  "nbformat_minor": 0
}

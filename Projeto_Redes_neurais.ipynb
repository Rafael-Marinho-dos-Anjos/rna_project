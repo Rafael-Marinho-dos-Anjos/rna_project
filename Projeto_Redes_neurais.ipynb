{
  "cells": [
    {
      "cell_type": "markdown",
      "metadata": {
        "id": "nNcAHlYVRywJ"
      },
      "source": [
        "link artigo : https://openaccess.thecvf.com/content_cvpr_2018/papers/Sun_Pix3D_Dataset_and_CVPR_2018_paper.pdf"
      ]
    },
    {
      "cell_type": "markdown",
      "metadata": {
        "id": "2hnh7vLOSDZu"
      },
      "source": [
        "link git : https://github.com/xingyuansun/pix3d"
      ]
    },
    {
      "cell_type": "code",
      "execution_count": null,
      "metadata": {},
      "outputs": [],
      "source": [
        "import torch\n",
        "from torch import nn, optim\n",
        "import matplotlib.pyplot as plt\n",
        "import numpy as np\n",
        "from copy import deepcopy"
      ]
    },
    {
      "cell_type": "code",
      "execution_count": null,
      "metadata": {},
      "outputs": [],
      "source": [
        "# 'sofa', 'chair', 'desk', 'bed', 'bookcase', 'tool', 'misc', 'wardrobe', 'table'\n",
        "category = \"bookcase\"\n",
        "\n",
        "with open(\"data/category.txt\", \"w\") as file:\n",
        "    file.write(category)\n",
        "\n",
        "from data.dataloader_filtered import train_loader, test_loader, val_loader"
      ]
    },
    {
      "cell_type": "code",
      "execution_count": null,
      "metadata": {},
      "outputs": [],
      "source": [
        "torch.cuda.empty_cache()"
      ]
    },
    {
      "cell_type": "code",
      "execution_count": null,
      "metadata": {},
      "outputs": [],
      "source": [
        "device = torch.device(\"cuda:0\") if torch.cuda.is_available() else torch.device(\"cpu\")\n",
        "device"
      ]
    },
    {
      "cell_type": "code",
      "execution_count": null,
      "metadata": {},
      "outputs": [],
      "source": [
        "from model.model import Rec3D, version\n",
        "model = Rec3D().to(device)"
      ]
    },
    {
      "cell_type": "code",
      "execution_count": null,
      "metadata": {},
      "outputs": [],
      "source": [
        "try:\n",
        "    model.load_state_dict(torch.load(\"model/weights/weights_{}_{}.pdf\".format(version, category)))\n",
        "    print(\"Weights loaded\")\n",
        "except:\n",
        "    pass\n",
        "\n",
        "model"
      ]
    },
    {
      "cell_type": "code",
      "execution_count": null,
      "metadata": {},
      "outputs": [],
      "source": [
        "EPOCHS = 50\n",
        "lr = 0.0001\n",
        "optimizer = optim.Adam(model.parameters(), lr=lr)\n",
        "loss_fn_1 = nn.MSELoss()\n",
        "loss_fn_2 = nn.MSELoss()\n",
        "\n",
        "train_seg = True\n",
        "train_rec = True"
      ]
    },
    {
      "cell_type": "code",
      "execution_count": null,
      "metadata": {},
      "outputs": [],
      "source": [
        "train_losses = [list(), list()]\n",
        "valid_losses = [list(), list()]"
      ]
    },
    {
      "cell_type": "code",
      "execution_count": null,
      "metadata": {},
      "outputs": [],
      "source": [
        "def train_step(model, loader, loss_fn_1, loss_fn_2, optimizer, device) -> float:\n",
        "  train_loss = [0, 0]\n",
        "  for X, Y_mask, Y_cloud, image in loader:\n",
        "    if X.shape == (1,1):\n",
        "      continue\n",
        "    model.zero_grad()\n",
        "    y_pred = model(X.to(device), torch.rand((1,128,128,128)).to(device))\n",
        "    if train_seg:\n",
        "      loss_1 = loss_fn_1(y_pred[0], Y_mask.to(device))\n",
        "      loss_1.backward(retain_graph=True)\n",
        "      train_loss[0] +=  loss_1.item()\n",
        "    if train_rec:\n",
        "      loss_2 = loss_fn_2(y_pred[1], Y_cloud.to(device))\n",
        "      loss_2.backward()\n",
        "      train_loss[1] +=  loss_2.item()\n",
        "    optimizer.step()\n",
        "  train_loss[0] = train_loss[0] / len(loader)\n",
        "  train_loss[1] = train_loss[1] / len(loader)\n",
        "  return train_loss\n",
        "\n",
        "\n",
        "def validation_step(model, loader, loss_fn_1, loss_fn_2, device) -> float:\n",
        "  loss = [0, 0]\n",
        "  with torch.no_grad():\n",
        "    for X, Y_mask, Y_cloud, image in loader:\n",
        "      if X.shape == (1,1):\n",
        "        continue\n",
        "      y_pred = model(X.to(device), torch.rand((1,128,128,128)).to(device))\n",
        "      loss_1 = loss_fn_1(y_pred[0], Y_mask.to(device)).item() \n",
        "      loss_2 = loss_fn_2(y_pred[1], Y_cloud.to(device)).item()\n",
        "      loss[0] += loss_1\n",
        "      loss[1] += loss_2\n",
        "  loss[0] = loss[0] / len(loader)\n",
        "  loss[1] = loss[1] / len(loader)\n",
        "  return loss"
      ]
    },
    {
      "cell_type": "code",
      "execution_count": null,
      "metadata": {},
      "outputs": [],
      "source": [
        "from tqdm import tqdm\n",
        "\n",
        "def train_model():\n",
        "  for epoch in tqdm(range(EPOCHS)):\n",
        "    train_loss = train_step(model, train_loader, loss_fn_1, loss_fn_2, optimizer, device)\n",
        "    train_losses[0].append(train_loss[0])\n",
        "    train_losses[1].append(train_loss[1])\n",
        "    valid_loss = validation_step(model, val_loader, loss_fn_1, loss_fn_2, device)\n",
        "    valid_losses[0].append(valid_loss[0])\n",
        "    valid_losses[1].append(valid_loss[1])\n",
        "    if valid_losses[1][-1] == min(valid_losses[1]):\n",
        "      best_model = deepcopy(model)\n",
        "      torch.save(best_model.state_dict(), \"model/weights/weights_{}_{}.pdf\".format(version, category))\n",
        "  if best_model:\n",
        "    return best_model"
      ]
    },
    {
      "cell_type": "code",
      "execution_count": null,
      "metadata": {},
      "outputs": [],
      "source": [
        "train_seg, train_rec = True, True\n",
        "model.freeze_encoder_block()\n",
        "best_model = train_model()"
      ]
    },
    {
      "cell_type": "code",
      "execution_count": null,
      "metadata": {},
      "outputs": [],
      "source": [
        "train_seg, train_rec = True, True\n",
        "model.unfreeze_encoder_block()\n",
        "best_model = train_model()"
      ]
    },
    {
      "cell_type": "code",
      "execution_count": null,
      "metadata": {},
      "outputs": [],
      "source": [
        "def plot_loss(loss_train, loss_valid):\n",
        "  plt.plot(loss_valid[0], label='valid')\n",
        "  plt.plot(loss_train[0], label='train')\n",
        "  plt.title('Loss per epoch [segmentation]')\n",
        "  plt.ylabel('loss')\n",
        "  plt.xlabel('epoch')\n",
        "  plt.legend()\n",
        "  plt.show()\n",
        "\n",
        "plot_loss(train_losses, valid_losses)"
      ]
    },
    {
      "cell_type": "code",
      "execution_count": null,
      "metadata": {},
      "outputs": [],
      "source": [
        "def plot_loss(loss_train, loss_valid):\n",
        "  plt.plot(loss_valid[1], label='valid')\n",
        "  plt.plot(loss_train[1], label='train')\n",
        "  plt.title('Loss per epoch [reconstruction]')\n",
        "  plt.ylabel('loss')\n",
        "  plt.xlabel('epoch')\n",
        "  plt.legend()\n",
        "  plt.show()\n",
        "\n",
        "plot_loss(train_losses, valid_losses)"
      ]
    },
    {
      "cell_type": "code",
      "execution_count": null,
      "metadata": {},
      "outputs": [],
      "source": [
        "threshold_seg = 0.5\n",
        "threshold_rec = 0.5\n",
        "\n",
        "fig = plt.figure(figsize=(10, 10))\n",
        "\n",
        "with torch.no_grad():\n",
        "    j = 0\n",
        "    count = 0\n",
        "    skip = 0\n",
        "    for X, y_mask, y_cloud, image in test_loader:\n",
        "        if X.shape == (1,1):\n",
        "            continue\n",
        "        if count < skip:\n",
        "            count += 1\n",
        "            continue\n",
        "\n",
        "        y = model(X.to(device), torch.zeros((1,128,128,128)).to(device))\n",
        "\n",
        "        ax = fig.add_subplot(4, 4, 1+4*j)\n",
        "        ax.imshow(image.squeeze().permute(1, 2, 0).cpu().numpy().astype(np.uint8))\n",
        "        ax.set_xticks([])\n",
        "        ax.set_yticks([])\n",
        "        if j == 0:\n",
        "            ax.title.set_text(\"Imagem\")\n",
        "\n",
        "        ax = fig.add_subplot(4, 4, 2+4*j)\n",
        "        ax.imshow((y[0].squeeze() > threshold_seg).cpu().numpy().astype(np.uint8) * 255, cmap=\"gray\", interpolation=\"None\")\n",
        "        ax.set_xticks([])\n",
        "        ax.set_yticks([])\n",
        "        if j == 0:\n",
        "            ax.title.set_text(\"Segmentação\")\n",
        "\n",
        "        t = (y[1].flatten() >= threshold_rec).nonzero(as_tuple=True)[0]\n",
        "        t = torch.stack((t // (128*128), (t % (128*128))//128, t % 128), dim=1)\n",
        "        cloud = t.cpu().numpy()\n",
        "\n",
        "        ax = fig.add_subplot(4, 4, 3+4*j, projection='3d')\n",
        "        ax.scatter(cloud[:, 0], cloud[:, 1], cloud[:, 2], c=((cloud[:, 0] - 64)**2 + (cloud[:, 1] - 64)**2 + (cloud[:, 2] - 64)**2)**0.5, cmap=\"viridis\")\n",
        "        ax.set_xticks([])\n",
        "        ax.set_yticks([])\n",
        "        ax.set_zticks([])\n",
        "        ax.set_xlim(-1, 129)\n",
        "        ax.set_ylim(-1, 129)\n",
        "        ax.set_zlim(-1, 129)\n",
        "        if j == 0:\n",
        "            ax.title.set_text(\"Reconstrução\")\n",
        "\n",
        "        t = y_cloud.flatten().nonzero(as_tuple=True)[0]\n",
        "        t = torch.stack((t // (128*128), (t % (128*128))//128, t % 128), dim=1)\n",
        "        cloud = t.cpu().numpy()\n",
        "\n",
        "        ax = fig.add_subplot(4, 4, 4+4*j, projection='3d')\n",
        "        ax.scatter(cloud[:, 0], cloud[:, 1], cloud[:, 2], c=((cloud[:, 0] - 64)**2 + (cloud[:, 1] - 64)**2 + (cloud[:, 2] - 64)**2)**0.5, cmap=\"viridis\")\n",
        "        ax.set_xticks([])\n",
        "        ax.set_yticks([])\n",
        "        ax.set_zticks([])\n",
        "        ax.set_xlim(-1, 129)\n",
        "        ax.set_ylim(-1, 129)\n",
        "        ax.set_zlim(-1, 129)\n",
        "        if j == 0:\n",
        "            ax.title.set_text(\"Esperado\")\n",
        "        \n",
        "        j += 1\n",
        "        if j == 4:\n",
        "            break"
      ]
    },
    {
      "cell_type": "code",
      "execution_count": null,
      "metadata": {},
      "outputs": [],
      "source": [
        "torch.save(model.state_dict(), \"model/weights/weights_{}_{}.pdf\".format(version, category))"
      ]
    }
  ],
  "metadata": {
    "colab": {
      "private_outputs": true,
      "provenance": []
    },
    "kernelspec": {
      "display_name": "Python 3",
      "name": "python3"
    },
    "language_info": {
      "codemirror_mode": {
        "name": "ipython",
        "version": 3
      },
      "file_extension": ".py",
      "mimetype": "text/x-python",
      "name": "python",
      "nbconvert_exporter": "python",
      "pygments_lexer": "ipython3",
      "version": "3.11.7"
    }
  },
  "nbformat": 4,
  "nbformat_minor": 0
}
